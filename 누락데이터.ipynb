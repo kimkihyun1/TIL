{
  "nbformat": 4,
  "nbformat_minor": 0,
  "metadata": {
    "colab": {
      "provenance": [],
      "authorship_tag": "ABX9TyMbJf69/zL6Vl1ayFLFnsfo",
      "include_colab_link": true
    },
    "kernelspec": {
      "name": "python3",
      "display_name": "Python 3"
    },
    "language_info": {
      "name": "python"
    }
  },
  "cells": [
    {
      "cell_type": "markdown",
      "metadata": {
        "id": "view-in-github",
        "colab_type": "text"
      },
      "source": [
        "<a href=\"https://colab.research.google.com/github/kimkihyun1/TIL/blob/main/%EB%88%84%EB%9D%BD%EB%8D%B0%EC%9D%B4%ED%84%B0.ipynb\" target=\"_parent\"><img src=\"https://colab.research.google.com/assets/colab-badge.svg\" alt=\"Open In Colab\"/></a>"
      ]
    },
    {
      "cell_type": "code",
      "execution_count": null,
      "metadata": {
        "colab": {
          "base_uri": "https://localhost:8080/"
        },
        "id": "F747sDdnUXbL",
        "outputId": "4975cbfc-a41d-4077-8254-bd13b569ccd2"
      },
      "outputs": [
        {
          "output_type": "stream",
          "name": "stdout",
          "text": [
            "a    1\n",
            "b    2\n",
            "c    3\n",
            "dtype: int64\n"
          ]
        }
      ],
      "source": [
        "# 시리즈 만들기\n",
        "import pandas as pd\n",
        "\n",
        "dict_data = {'a': 1, 'b': 2, 'c': 3}\n",
        "sr = pd.Series(dict_data)\n",
        "print(sr)"
      ]
    },
    {
      "cell_type": "code",
      "source": [
        "# 시리즈 크기 확인\n",
        "print(sr.shape)"
      ],
      "metadata": {
        "colab": {
          "base_uri": "https://localhost:8080/"
        },
        "id": "sNrdDtiHYlF-",
        "outputId": "bcd53f53-10dc-4b53-ddcd-e8b79f89fffa"
      },
      "execution_count": null,
      "outputs": [
        {
          "output_type": "stream",
          "name": "stdout",
          "text": [
            "(3,)\n"
          ]
        }
      ]
    },
    {
      "cell_type": "code",
      "source": [
        "# 인덱스 확인\n",
        "print(sr.index)\n",
        "print()\n",
        "\n",
        "# 값 확인\n",
        "print(sr.values)"
      ],
      "metadata": {
        "colab": {
          "base_uri": "https://localhost:8080/"
        },
        "id": "CfZVcqcVYzpI",
        "outputId": "7c9c8ebb-a3ba-4a86-fd55-4d877cdb6504"
      },
      "execution_count": null,
      "outputs": [
        {
          "output_type": "stream",
          "name": "stdout",
          "text": [
            "Index(['a', 'b', 'c'], dtype='object')\n",
            "\n",
            "[1 2 3]\n"
          ]
        }
      ]
    },
    {
      "cell_type": "code",
      "source": [
        "list_data = ['a', 'b', 'c', 'd']\n",
        "sr = pd.Series(list_data)\n",
        "print(sr)"
      ],
      "metadata": {
        "colab": {
          "base_uri": "https://localhost:8080/"
        },
        "id": "eFOV-QTEZVr0",
        "outputId": "6d860a5f-8b55-4255-87bc-62065b9ce80d"
      },
      "execution_count": null,
      "outputs": [
        {
          "output_type": "stream",
          "name": "stdout",
          "text": [
            "0    a\n",
            "1    b\n",
            "2    c\n",
            "3    d\n",
            "dtype: object\n"
          ]
        }
      ]
    },
    {
      "cell_type": "code",
      "source": [
        "# 시리즈 만들기\n",
        "import pandas as pd\n",
        "\n",
        "dict_data = {'a': 1, 'b': 2, 'c': 3}\n",
        "sr = pd.Series(dict_data)\n",
        "print(sr[0])\n",
        "print(sr['a'])"
      ],
      "metadata": {
        "colab": {
          "base_uri": "https://localhost:8080/"
        },
        "id": "bCdyYCsnZmZ4",
        "outputId": "79337ec3-dd7b-4bfb-e3da-98cafd5bc241"
      },
      "execution_count": null,
      "outputs": [
        {
          "output_type": "stream",
          "name": "stdout",
          "text": [
            "1\n",
            "1\n"
          ]
        }
      ]
    },
    {
      "cell_type": "code",
      "source": [
        "print(sr[[0, 2]])\n",
        "print(sr[['a', 'c']])"
      ],
      "metadata": {
        "colab": {
          "base_uri": "https://localhost:8080/"
        },
        "id": "Rlx0PxpiaOTY",
        "outputId": "73bb96e7-ac27-4776-ee93-e41dfcf716d7"
      },
      "execution_count": null,
      "outputs": [
        {
          "output_type": "stream",
          "name": "stdout",
          "text": [
            "a    1\n",
            "c    3\n",
            "dtype: int64\n",
            "a    1\n",
            "c    3\n",
            "dtype: int64\n"
          ]
        }
      ]
    },
    {
      "cell_type": "code",
      "source": [
        "print(sr[1:3])\n",
        "print(sr['b':'c'])"
      ],
      "metadata": {
        "colab": {
          "base_uri": "https://localhost:8080/"
        },
        "id": "V5Nkm6-Haoin",
        "outputId": "e46f623d-dc40-42ab-a073-6dec8c577069"
      },
      "execution_count": null,
      "outputs": [
        {
          "output_type": "stream",
          "name": "stdout",
          "text": [
            "b    2\n",
            "c    3\n",
            "dtype: int64\n",
            "b    2\n",
            "c    3\n",
            "dtype: int64\n"
          ]
        }
      ]
    },
    {
      "cell_type": "code",
      "source": [
        "dict_data = {'c0': [1, 2, 3], 'c1': [2, 3, 4], 'c2': [3, 4, 5]}\n",
        "df = pd.DataFrame(dict_data)\n",
        "print(df)"
      ],
      "metadata": {
        "colab": {
          "base_uri": "https://localhost:8080/"
        },
        "id": "A6yCjeGDbayB",
        "outputId": "4fe30f87-31df-4ca7-d2f9-f911579fb065"
      },
      "execution_count": null,
      "outputs": [
        {
          "output_type": "stream",
          "name": "stdout",
          "text": [
            "   c0  c1  c2\n",
            "0   1   2   3\n",
            "1   2   3   4\n",
            "2   3   4   5\n"
          ]
        }
      ]
    },
    {
      "cell_type": "code",
      "source": [
        "df = pd.DataFrame([['22', '남', 'cccr'], [32, '여', 'cloud']], index = ['학생1', '학생2'], columns = ['나이', '성별', '반이름'])\n",
        "print(df)"
      ],
      "metadata": {
        "colab": {
          "base_uri": "https://localhost:8080/"
        },
        "id": "YEGlRRCifmFC",
        "outputId": "e5dfa940-0273-436d-b54e-ae8bf955d0cf"
      },
      "execution_count": null,
      "outputs": [
        {
          "output_type": "stream",
          "name": "stdout",
          "text": [
            "     나이 성별    반이름\n",
            "학생1  22  남   cccr\n",
            "학생2  32  여  cloud\n"
          ]
        }
      ]
    },
    {
      "cell_type": "code",
      "source": [
        "dict_data = {'이름' : ['오규석', '임장근', '염찬영'],\n",
        "             '국어': [90, 95, 100],\n",
        "             '수학': [80, 90, 85],\n",
        "             '영어': [95, 85, 90]}\n",
        "\n",
        "df = pd.DataFrame(dict_data)\n",
        "print(df)"
      ],
      "metadata": {
        "colab": {
          "base_uri": "https://localhost:8080/"
        },
        "id": "4xpmR-mchEJn",
        "outputId": "3a42babb-d4fa-4926-b5be-c014af666457"
      },
      "execution_count": null,
      "outputs": [
        {
          "output_type": "stream",
          "name": "stdout",
          "text": [
            "    이름   국어  수학  영어\n",
            "0  오규석   90  80  95\n",
            "1  임장근   95  90  85\n",
            "2  염찬영  100  85  90\n"
          ]
        }
      ]
    },
    {
      "cell_type": "code",
      "source": [
        "df2 = df.set_index('이름')\n",
        "print(df2)"
      ],
      "metadata": {
        "colab": {
          "base_uri": "https://localhost:8080/"
        },
        "id": "mZrS6vOli_lw",
        "outputId": "1f625629-f3f8-4648-d864-b130bddbe63e"
      },
      "execution_count": null,
      "outputs": [
        {
          "output_type": "stream",
          "name": "stdout",
          "text": [
            "      국어  수학  영어\n",
            "이름              \n",
            "오규석   90  80  95\n",
            "임장근   95  90  85\n",
            "염찬영  100  85  90\n"
          ]
        }
      ]
    },
    {
      "cell_type": "code",
      "source": [
        "print(df2.loc['임장근', '국어'])"
      ],
      "metadata": {
        "colab": {
          "base_uri": "https://localhost:8080/"
        },
        "id": "d8mVgq3EjjVu",
        "outputId": "b8863d22-69f0-44eb-bd6b-5a43ba05c46a"
      },
      "execution_count": null,
      "outputs": [
        {
          "output_type": "stream",
          "name": "stdout",
          "text": [
            "95\n"
          ]
        }
      ]
    },
    {
      "cell_type": "code",
      "source": [
        "print(df2.iloc[1, 0])"
      ],
      "metadata": {
        "colab": {
          "base_uri": "https://localhost:8080/"
        },
        "id": "AliEDzhwkMUn",
        "outputId": "e97da9d5-50c0-498f-fa2e-8736575c0335"
      },
      "execution_count": null,
      "outputs": [
        {
          "output_type": "stream",
          "name": "stdout",
          "text": [
            "95\n"
          ]
        }
      ]
    },
    {
      "cell_type": "code",
      "source": [
        "print(df2.loc[['오규석', '염찬영'], ['국어', '영어']])"
      ],
      "metadata": {
        "colab": {
          "base_uri": "https://localhost:8080/"
        },
        "id": "h4dV2j0zkVM1",
        "outputId": "e875d6a7-c27b-4b9b-a33d-49847f502077"
      },
      "execution_count": null,
      "outputs": [
        {
          "output_type": "stream",
          "name": "stdout",
          "text": [
            "      국어  영어\n",
            "이름          \n",
            "오규석   90  95\n",
            "염찬영  100  90\n"
          ]
        }
      ]
    },
    {
      "cell_type": "code",
      "source": [
        "print(df2.iloc[[0, 2], [0, 2]])"
      ],
      "metadata": {
        "colab": {
          "base_uri": "https://localhost:8080/"
        },
        "id": "wWO_8VK8knhq",
        "outputId": "13089c40-358b-4c43-9de2-ab8e6d0c0e38"
      },
      "execution_count": null,
      "outputs": [
        {
          "output_type": "stream",
          "name": "stdout",
          "text": [
            "      국어  영어\n",
            "이름          \n",
            "오규석   90  95\n",
            "염찬영  100  90\n"
          ]
        }
      ]
    },
    {
      "cell_type": "code",
      "source": [
        "print(df2.loc['임장근':'염찬영', '국어':'수학'])"
      ],
      "metadata": {
        "colab": {
          "base_uri": "https://localhost:8080/"
        },
        "id": "Gy1y39QWk7kZ",
        "outputId": "1a47d429-cc12-43db-c200-427f93819555"
      },
      "execution_count": null,
      "outputs": [
        {
          "output_type": "stream",
          "name": "stdout",
          "text": [
            "      국어  수학\n",
            "이름          \n",
            "임장근   95  90\n",
            "염찬영  100  85\n"
          ]
        }
      ]
    },
    {
      "cell_type": "code",
      "source": [
        "print(df2.iloc[1:3, 0:2])"
      ],
      "metadata": {
        "colab": {
          "base_uri": "https://localhost:8080/"
        },
        "id": "8yhPRsdSlQAX",
        "outputId": "d484f2d8-aecb-4d67-bc08-30de7a693fe9"
      },
      "execution_count": null,
      "outputs": [
        {
          "output_type": "stream",
          "name": "stdout",
          "text": [
            "      국어  수학\n",
            "이름          \n",
            "임장근   95  90\n",
            "염찬영  100  85\n"
          ]
        }
      ]
    },
    {
      "cell_type": "code",
      "source": [
        "import seaborn as sns\n",
        "\n",
        "df = sns.load_dataset('titanic')\n",
        "print(df.head())"
      ],
      "metadata": {
        "colab": {
          "base_uri": "https://localhost:8080/"
        },
        "id": "RzhH-wpflf8o",
        "outputId": "b0ee5847-1d43-4ada-ea27-211bde0ba213"
      },
      "execution_count": null,
      "outputs": [
        {
          "output_type": "stream",
          "name": "stdout",
          "text": [
            "   survived  pclass     sex   age  sibsp  parch     fare embarked  class  \\\n",
            "0         0       3    male  22.0      1      0   7.2500        S  Third   \n",
            "1         1       1  female  38.0      1      0  71.2833        C  First   \n",
            "2         1       3  female  26.0      0      0   7.9250        S  Third   \n",
            "3         1       1  female  35.0      1      0  53.1000        S  First   \n",
            "4         0       3    male  35.0      0      0   8.0500        S  Third   \n",
            "\n",
            "     who  adult_male deck  embark_town alive  alone  \n",
            "0    man        True  NaN  Southampton    no  False  \n",
            "1  woman       False    C    Cherbourg   yes  False  \n",
            "2  woman       False  NaN  Southampton   yes   True  \n",
            "3  woman       False    C  Southampton   yes  False  \n",
            "4    man        True  NaN  Southampton    no   True  \n"
          ]
        }
      ]
    },
    {
      "cell_type": "code",
      "source": [
        "print(df.deck)"
      ],
      "metadata": {
        "colab": {
          "base_uri": "https://localhost:8080/"
        },
        "id": "F6uHAycdod19",
        "outputId": "c3cf2ef9-174d-46fa-e68c-38ab6572ed69"
      },
      "execution_count": null,
      "outputs": [
        {
          "output_type": "stream",
          "name": "stdout",
          "text": [
            "0      NaN\n",
            "1        C\n",
            "2      NaN\n",
            "3        C\n",
            "4      NaN\n",
            "      ... \n",
            "886    NaN\n",
            "887      B\n",
            "888    NaN\n",
            "889      C\n",
            "890    NaN\n",
            "Name: deck, Length: 891, dtype: category\n",
            "Categories (7, object): ['A', 'B', 'C', 'D', 'E', 'F', 'G']\n"
          ]
        }
      ]
    },
    {
      "cell_type": "code",
      "source": [
        "print(df.deck.value_counts(dropna=False)) # False로 지정해야 NaN 값을 확인할 수 있다"
      ],
      "metadata": {
        "colab": {
          "base_uri": "https://localhost:8080/"
        },
        "id": "hOQH-s6YouKf",
        "outputId": "4b00c1c2-f962-4ceb-bc91-b8b1ae390c77"
      },
      "execution_count": null,
      "outputs": [
        {
          "output_type": "stream",
          "name": "stdout",
          "text": [
            "NaN    688\n",
            "C       59\n",
            "B       47\n",
            "D       33\n",
            "E       32\n",
            "A       15\n",
            "F       13\n",
            "G        4\n",
            "Name: deck, dtype: int64\n"
          ]
        }
      ]
    },
    {
      "cell_type": "code",
      "source": [
        "print(df.deck.isnull()) # null 이면 참"
      ],
      "metadata": {
        "colab": {
          "base_uri": "https://localhost:8080/"
        },
        "id": "6w0UXBUApFXX",
        "outputId": "a1f3ca39-f718-4117-ee1b-d70a659e35b8"
      },
      "execution_count": null,
      "outputs": [
        {
          "output_type": "stream",
          "name": "stdout",
          "text": [
            "0       True\n",
            "1      False\n",
            "2       True\n",
            "3      False\n",
            "4       True\n",
            "       ...  \n",
            "886     True\n",
            "887    False\n",
            "888     True\n",
            "889    False\n",
            "890     True\n",
            "Name: deck, Length: 891, dtype: bool\n"
          ]
        }
      ]
    },
    {
      "cell_type": "code",
      "source": [
        "print(df.deck.notnull()) # null이 아니면 참"
      ],
      "metadata": {
        "colab": {
          "base_uri": "https://localhost:8080/"
        },
        "id": "xMXm9oVkszC9",
        "outputId": "efcf422b-a741-43aa-aa5a-64cad5f4532d"
      },
      "execution_count": null,
      "outputs": [
        {
          "output_type": "stream",
          "name": "stdout",
          "text": [
            "0      False\n",
            "1       True\n",
            "2      False\n",
            "3       True\n",
            "4      False\n",
            "       ...  \n",
            "886    False\n",
            "887     True\n",
            "888    False\n",
            "889     True\n",
            "890    False\n",
            "Name: deck, Length: 891, dtype: bool\n"
          ]
        }
      ]
    },
    {
      "cell_type": "code",
      "source": [
        "print(df.deck.isnull().sum()) # NaN 값의 개수"
      ],
      "metadata": {
        "colab": {
          "base_uri": "https://localhost:8080/"
        },
        "id": "pdfsYCgos_rO",
        "outputId": "7c2c7311-4580-49aa-d22d-47d133e586c7"
      },
      "execution_count": null,
      "outputs": [
        {
          "output_type": "stream",
          "name": "stdout",
          "text": [
            "688\n"
          ]
        }
      ]
    },
    {
      "cell_type": "code",
      "source": [
        "import seaborn as sns\n",
        "\n",
        "df = sns.load_dataset('titanic')\n",
        "\n",
        "missing_data = df.isnull()\n",
        "print(missing_data)"
      ],
      "metadata": {
        "colab": {
          "base_uri": "https://localhost:8080/"
        },
        "id": "ucEm6EIQtheA",
        "outputId": "db4d8f2e-38b8-47ef-bc83-1f6e96160d81"
      },
      "execution_count": null,
      "outputs": [
        {
          "output_type": "stream",
          "name": "stdout",
          "text": [
            "     survived  pclass    sex    age  sibsp  parch   fare  embarked  class  \\\n",
            "0       False   False  False  False  False  False  False     False  False   \n",
            "1       False   False  False  False  False  False  False     False  False   \n",
            "2       False   False  False  False  False  False  False     False  False   \n",
            "3       False   False  False  False  False  False  False     False  False   \n",
            "4       False   False  False  False  False  False  False     False  False   \n",
            "..        ...     ...    ...    ...    ...    ...    ...       ...    ...   \n",
            "886     False   False  False  False  False  False  False     False  False   \n",
            "887     False   False  False  False  False  False  False     False  False   \n",
            "888     False   False  False   True  False  False  False     False  False   \n",
            "889     False   False  False  False  False  False  False     False  False   \n",
            "890     False   False  False  False  False  False  False     False  False   \n",
            "\n",
            "       who  adult_male   deck  embark_town  alive  alone  \n",
            "0    False       False   True        False  False  False  \n",
            "1    False       False  False        False  False  False  \n",
            "2    False       False   True        False  False  False  \n",
            "3    False       False  False        False  False  False  \n",
            "4    False       False   True        False  False  False  \n",
            "..     ...         ...    ...          ...    ...    ...  \n",
            "886  False       False   True        False  False  False  \n",
            "887  False       False  False        False  False  False  \n",
            "888  False       False   True        False  False  False  \n",
            "889  False       False  False        False  False  False  \n",
            "890  False       False   True        False  False  False  \n",
            "\n",
            "[891 rows x 15 columns]\n"
          ]
        }
      ]
    },
    {
      "cell_type": "code",
      "source": [
        "print(missing_data.columns)\n",
        "print(type(missing_data.columns))"
      ],
      "metadata": {
        "colab": {
          "base_uri": "https://localhost:8080/"
        },
        "id": "5JcJrUfYuhQH",
        "outputId": "e9fd6f36-1560-41a9-cfc4-820c4cf86c03"
      },
      "execution_count": null,
      "outputs": [
        {
          "output_type": "stream",
          "name": "stdout",
          "text": [
            "Index(['survived', 'pclass', 'sex', 'age', 'sibsp', 'parch', 'fare',\n",
            "       'embarked', 'class', 'who', 'adult_male', 'deck', 'embark_town',\n",
            "       'alive', 'alone'],\n",
            "      dtype='object')\n",
            "<class 'pandas.core.indexes.base.Index'>\n"
          ]
        }
      ]
    },
    {
      "cell_type": "code",
      "source": [
        "for col in missing_data.columns:\n",
        "    missing_count = missing_data[col].value_counts()\n",
        "\n",
        "    try:\n",
        "        print(col, ':', missing_count[True])\n",
        "    except:\n",
        "        print(col, ':', 0)"
      ],
      "metadata": {
        "colab": {
          "base_uri": "https://localhost:8080/"
        },
        "id": "VzVI5650uLfM",
        "outputId": "9374ffbe-4b69-4969-cd0f-e0ea7db1328f"
      },
      "execution_count": null,
      "outputs": [
        {
          "output_type": "stream",
          "name": "stdout",
          "text": [
            "survived : 0\n",
            "pclass : 0\n",
            "sex : 0\n",
            "age : 177\n",
            "sibsp : 0\n",
            "parch : 0\n",
            "fare : 0\n",
            "embarked : 2\n",
            "class : 0\n",
            "who : 0\n",
            "adult_male : 0\n",
            "deck : 688\n",
            "embark_town : 2\n",
            "alive : 0\n",
            "alone : 0\n"
          ]
        }
      ]
    },
    {
      "cell_type": "code",
      "source": [
        "df_drop = df.dropna(axis=1) # 행은 axis=0, 열은 axis=1\n",
        "print(df_drop)"
      ],
      "metadata": {
        "colab": {
          "base_uri": "https://localhost:8080/"
        },
        "id": "gL7V-ZDKvf87",
        "outputId": "1af94cc1-6f96-4556-8784-e8fa2776c06c"
      },
      "execution_count": null,
      "outputs": [
        {
          "output_type": "stream",
          "name": "stdout",
          "text": [
            "     survived  pclass     sex  sibsp  parch     fare   class    who  \\\n",
            "0           0       3    male      1      0   7.2500   Third    man   \n",
            "1           1       1  female      1      0  71.2833   First  woman   \n",
            "2           1       3  female      0      0   7.9250   Third  woman   \n",
            "3           1       1  female      1      0  53.1000   First  woman   \n",
            "4           0       3    male      0      0   8.0500   Third    man   \n",
            "..        ...     ...     ...    ...    ...      ...     ...    ...   \n",
            "886         0       2    male      0      0  13.0000  Second    man   \n",
            "887         1       1  female      0      0  30.0000   First  woman   \n",
            "888         0       3  female      1      2  23.4500   Third  woman   \n",
            "889         1       1    male      0      0  30.0000   First    man   \n",
            "890         0       3    male      0      0   7.7500   Third    man   \n",
            "\n",
            "     adult_male alive  alone  \n",
            "0          True    no  False  \n",
            "1         False   yes  False  \n",
            "2         False   yes   True  \n",
            "3         False   yes  False  \n",
            "4          True    no   True  \n",
            "..          ...   ...    ...  \n",
            "886        True    no   True  \n",
            "887       False   yes   True  \n",
            "888       False    no  False  \n",
            "889        True   yes   True  \n",
            "890        True    no   True  \n",
            "\n",
            "[891 rows x 11 columns]\n"
          ]
        }
      ]
    },
    {
      "cell_type": "code",
      "source": [
        "df_thresh = df.dropna(axis=1, thresh=500)  # NaN값이 500개 이상이면 제거\n",
        "print(df_thresh)"
      ],
      "metadata": {
        "colab": {
          "base_uri": "https://localhost:8080/"
        },
        "id": "8fmnEZB3wRA6",
        "outputId": "8d83956b-b5d1-4995-f379-5e575d4fe9d5"
      },
      "execution_count": null,
      "outputs": [
        {
          "output_type": "stream",
          "name": "stdout",
          "text": [
            "     survived  pclass     sex   age  sibsp  parch     fare embarked   class  \\\n",
            "0           0       3    male  22.0      1      0   7.2500        S   Third   \n",
            "1           1       1  female  38.0      1      0  71.2833        C   First   \n",
            "2           1       3  female  26.0      0      0   7.9250        S   Third   \n",
            "3           1       1  female  35.0      1      0  53.1000        S   First   \n",
            "4           0       3    male  35.0      0      0   8.0500        S   Third   \n",
            "..        ...     ...     ...   ...    ...    ...      ...      ...     ...   \n",
            "886         0       2    male  27.0      0      0  13.0000        S  Second   \n",
            "887         1       1  female  19.0      0      0  30.0000        S   First   \n",
            "888         0       3  female   NaN      1      2  23.4500        S   Third   \n",
            "889         1       1    male  26.0      0      0  30.0000        C   First   \n",
            "890         0       3    male  32.0      0      0   7.7500        Q   Third   \n",
            "\n",
            "       who  adult_male  embark_town alive  alone  \n",
            "0      man        True  Southampton    no  False  \n",
            "1    woman       False    Cherbourg   yes  False  \n",
            "2    woman       False  Southampton   yes   True  \n",
            "3    woman       False  Southampton   yes  False  \n",
            "4      man        True  Southampton    no   True  \n",
            "..     ...         ...          ...   ...    ...  \n",
            "886    man        True  Southampton    no   True  \n",
            "887  woman       False  Southampton   yes   True  \n",
            "888  woman       False  Southampton    no  False  \n",
            "889    man        True    Cherbourg   yes   True  \n",
            "890    man        True   Queenstown    no   True  \n",
            "\n",
            "[891 rows x 14 columns]\n"
          ]
        }
      ]
    },
    {
      "cell_type": "code",
      "source": [
        "df_age = df.dropna(subset=['age'], how='any') # subset은 특정 열을 선택할수 있다, how='all'은 행의 전체가 NaN 일때만 제거, how='any'은 행의 일부가 NaN이 있을 때 제거\n",
        "print(df_age)"
      ],
      "metadata": {
        "colab": {
          "base_uri": "https://localhost:8080/"
        },
        "id": "oBj56vifwzji",
        "outputId": "fa3708ef-bf95-4744-e24b-05108ec44e3c"
      },
      "execution_count": null,
      "outputs": [
        {
          "output_type": "stream",
          "name": "stdout",
          "text": [
            "     survived  pclass     sex   age  sibsp  parch     fare embarked   class  \\\n",
            "0           0       3    male  22.0      1      0   7.2500        S   Third   \n",
            "1           1       1  female  38.0      1      0  71.2833        C   First   \n",
            "2           1       3  female  26.0      0      0   7.9250        S   Third   \n",
            "3           1       1  female  35.0      1      0  53.1000        S   First   \n",
            "4           0       3    male  35.0      0      0   8.0500        S   Third   \n",
            "..        ...     ...     ...   ...    ...    ...      ...      ...     ...   \n",
            "885         0       3  female  39.0      0      5  29.1250        Q   Third   \n",
            "886         0       2    male  27.0      0      0  13.0000        S  Second   \n",
            "887         1       1  female  19.0      0      0  30.0000        S   First   \n",
            "889         1       1    male  26.0      0      0  30.0000        C   First   \n",
            "890         0       3    male  32.0      0      0   7.7500        Q   Third   \n",
            "\n",
            "       who  adult_male deck  embark_town alive  alone  \n",
            "0      man        True  NaN  Southampton    no  False  \n",
            "1    woman       False    C    Cherbourg   yes  False  \n",
            "2    woman       False  NaN  Southampton   yes   True  \n",
            "3    woman       False    C  Southampton   yes  False  \n",
            "4      man        True  NaN  Southampton    no   True  \n",
            "..     ...         ...  ...          ...   ...    ...  \n",
            "885  woman       False  NaN   Queenstown    no  False  \n",
            "886    man        True  NaN  Southampton    no   True  \n",
            "887  woman       False    B  Southampton   yes   True  \n",
            "889    man        True    C    Cherbourg   yes   True  \n",
            "890    man        True  NaN   Queenstown    no   True  \n",
            "\n",
            "[714 rows x 15 columns]\n"
          ]
        }
      ]
    },
    {
      "cell_type": "code",
      "source": [
        "# 평균값 대체\n",
        "import seaborn as sns\n",
        "\n",
        "df = sns.load_dataset('titanic')\n",
        "mean_age = df['age'].mean()\n",
        "print(mean_age)"
      ],
      "metadata": {
        "colab": {
          "base_uri": "https://localhost:8080/"
        },
        "id": "7OmWNHw8xl6c",
        "outputId": "e3e55254-f165-48df-9641-1e80728c723f"
      },
      "execution_count": null,
      "outputs": [
        {
          "output_type": "stream",
          "name": "stdout",
          "text": [
            "29.69911764705882\n"
          ]
        }
      ]
    },
    {
      "cell_type": "code",
      "source": [
        "df['age'].fillna(mean_age, inplace=True)\n",
        "print(df.iloc[10:25]) # 17행의 age 값이 NaN에서 mean_age값으로 대체"
      ],
      "metadata": {
        "colab": {
          "base_uri": "https://localhost:8080/"
        },
        "id": "wNJ20xl0zADY",
        "outputId": "49f7f26f-5077-402d-b98b-63ee86a21b70"
      },
      "execution_count": null,
      "outputs": [
        {
          "output_type": "stream",
          "name": "stdout",
          "text": [
            "    survived  pclass     sex        age  sibsp  parch     fare embarked  \\\n",
            "10         1       3  female   4.000000      1      1  16.7000        S   \n",
            "11         1       1  female  58.000000      0      0  26.5500        S   \n",
            "12         0       3    male  20.000000      0      0   8.0500        S   \n",
            "13         0       3    male  39.000000      1      5  31.2750        S   \n",
            "14         0       3  female  14.000000      0      0   7.8542        S   \n",
            "15         1       2  female  55.000000      0      0  16.0000        S   \n",
            "16         0       3    male   2.000000      4      1  29.1250        Q   \n",
            "17         1       2    male  29.699118      0      0  13.0000        S   \n",
            "18         0       3  female  31.000000      1      0  18.0000        S   \n",
            "19         1       3  female  29.699118      0      0   7.2250        C   \n",
            "20         0       2    male  35.000000      0      0  26.0000        S   \n",
            "21         1       2    male  34.000000      0      0  13.0000        S   \n",
            "22         1       3  female  15.000000      0      0   8.0292        Q   \n",
            "23         1       1    male  28.000000      0      0  35.5000        S   \n",
            "24         0       3  female   8.000000      3      1  21.0750        S   \n",
            "\n",
            "     class    who  adult_male deck  embark_town alive  alone  \n",
            "10   Third  child       False    G  Southampton   yes  False  \n",
            "11   First  woman       False    C  Southampton   yes   True  \n",
            "12   Third    man        True  NaN  Southampton    no   True  \n",
            "13   Third    man        True  NaN  Southampton    no  False  \n",
            "14   Third  child       False  NaN  Southampton    no   True  \n",
            "15  Second  woman       False  NaN  Southampton   yes   True  \n",
            "16   Third  child       False  NaN   Queenstown    no  False  \n",
            "17  Second    man        True  NaN  Southampton   yes   True  \n",
            "18   Third  woman       False  NaN  Southampton    no  False  \n",
            "19   Third  woman       False  NaN    Cherbourg   yes   True  \n",
            "20  Second    man        True  NaN  Southampton    no   True  \n",
            "21  Second    man        True    D  Southampton   yes   True  \n",
            "22   Third  child       False  NaN   Queenstown   yes   True  \n",
            "23   First    man        True    A  Southampton   yes   True  \n",
            "24   Third  child       False  NaN  Southampton    no  False  \n"
          ]
        }
      ]
    },
    {
      "cell_type": "code",
      "source": [
        "# 최빈값 대체\n",
        "import seaborn as sns\n",
        "\n",
        "df = sns.load_dataset('titanic')\n",
        "print(df.embark_town[825:830])"
      ],
      "metadata": {
        "colab": {
          "base_uri": "https://localhost:8080/"
        },
        "id": "YceHB71Jzk-x",
        "outputId": "0e2ac1aa-adba-450d-a413-590e67a7d712"
      },
      "execution_count": null,
      "outputs": [
        {
          "output_type": "stream",
          "name": "stdout",
          "text": [
            "825     Queenstown\n",
            "826    Southampton\n",
            "827      Cherbourg\n",
            "828     Queenstown\n",
            "829            NaN\n",
            "Name: embark_town, dtype: object\n"
          ]
        }
      ]
    },
    {
      "cell_type": "code",
      "source": [
        "most_freq = df.embark_town.value_counts(dropna=True).idxmax()\n",
        "print(most_freq)"
      ],
      "metadata": {
        "colab": {
          "base_uri": "https://localhost:8080/"
        },
        "id": "VyLpa_se0mKH",
        "outputId": "daff64dc-7279-4b96-e45c-b42a6d2282f5"
      },
      "execution_count": null,
      "outputs": [
        {
          "output_type": "stream",
          "name": "stdout",
          "text": [
            "Southampton\n"
          ]
        }
      ]
    },
    {
      "cell_type": "code",
      "source": [
        "df.embark_town.fillna(most_freq, inplace=True)\n",
        "print(df.embark_town[825:830])"
      ],
      "metadata": {
        "colab": {
          "base_uri": "https://localhost:8080/"
        },
        "id": "fmONZTpX1Goj",
        "outputId": "cbe15a39-0b9a-4c3f-f7f7-6e696f86ea40"
      },
      "execution_count": null,
      "outputs": [
        {
          "output_type": "stream",
          "name": "stdout",
          "text": [
            "825     Queenstown\n",
            "826    Southampton\n",
            "827      Cherbourg\n",
            "828     Queenstown\n",
            "829    Southampton\n",
            "Name: embark_town, dtype: object\n"
          ]
        }
      ]
    },
    {
      "cell_type": "code",
      "source": [
        "df = pd.DataFrame({'A': [1, '-', 3],\n",
        "                   'B': ['-', 5, '-'],\n",
        "                   'C': [7, 8, '-']})\n",
        "print(df)"
      ],
      "metadata": {
        "colab": {
          "base_uri": "https://localhost:8080/"
        },
        "id": "V8wuGDiT1XPv",
        "outputId": "c1e1fd74-5894-4e3a-a5d0-ebf72c80d218"
      },
      "execution_count": null,
      "outputs": [
        {
          "output_type": "stream",
          "name": "stdout",
          "text": [
            "   A  B  C\n",
            "0  1  -  7\n",
            "1  -  5  8\n",
            "2  3  -  -\n"
          ]
        }
      ]
    },
    {
      "cell_type": "code",
      "source": [
        "import numpy as np\n",
        "\n",
        "df.replace('-', np.nan, inplace=True)\n",
        "print(df)"
      ],
      "metadata": {
        "colab": {
          "base_uri": "https://localhost:8080/"
        },
        "id": "WVCr9qO5IXd7",
        "outputId": "1590ead8-9834-4f6c-ac4d-718f9abaf91c"
      },
      "execution_count": null,
      "outputs": [
        {
          "output_type": "stream",
          "name": "stdout",
          "text": [
            "     A    B    C\n",
            "0  1.0  NaN  7.0\n",
            "1  NaN  5.0  8.0\n",
            "2  3.0  NaN  NaN\n"
          ]
        }
      ]
    },
    {
      "cell_type": "code",
      "source": [
        "# NaN값을 바로 위,아래 데이터로 대체\n",
        "import seaborn as sns\n",
        "\n",
        "df = sns.load_dataset('titanic')\n",
        "print(df.embark_town[825:835])"
      ],
      "metadata": {
        "colab": {
          "base_uri": "https://localhost:8080/"
        },
        "id": "7FOxgGW9Ivjo",
        "outputId": "d95fdb1a-ad1d-4cbf-e540-ee636fb0e5c1"
      },
      "execution_count": null,
      "outputs": [
        {
          "output_type": "stream",
          "name": "stdout",
          "text": [
            "825     Queenstown\n",
            "826    Southampton\n",
            "827      Cherbourg\n",
            "828     Queenstown\n",
            "829            NaN\n",
            "830      Cherbourg\n",
            "831    Southampton\n",
            "832      Cherbourg\n",
            "833    Southampton\n",
            "834    Southampton\n",
            "Name: embark_town, dtype: object\n"
          ]
        }
      ]
    },
    {
      "cell_type": "code",
      "source": [
        "df.embark_town.fillna(method='ffill', inplace=True) # 위 데이터로 대체\n",
        "print(df.embark_town[825:835])"
      ],
      "metadata": {
        "colab": {
          "base_uri": "https://localhost:8080/"
        },
        "id": "bTJBo3yHJP54",
        "outputId": "0a55bd9d-518c-44a5-8a29-8fd338d382d1"
      },
      "execution_count": null,
      "outputs": [
        {
          "output_type": "stream",
          "name": "stdout",
          "text": [
            "825     Queenstown\n",
            "826    Southampton\n",
            "827      Cherbourg\n",
            "828     Queenstown\n",
            "829     Queenstown\n",
            "830      Cherbourg\n",
            "831    Southampton\n",
            "832      Cherbourg\n",
            "833    Southampton\n",
            "834    Southampton\n",
            "Name: embark_town, dtype: object\n"
          ]
        }
      ]
    },
    {
      "cell_type": "code",
      "source": [
        "import seaborn as sns\n",
        "\n",
        "df = sns.load_dataset('titanic')\n",
        "print(df.embark_town[825:835])\n",
        "print()\n",
        "\n",
        "df.embark_town.fillna(method='bfill', inplace=True) # 아래 데이터로 대체\n",
        "print(df.embark_town[825:835])"
      ],
      "metadata": {
        "colab": {
          "base_uri": "https://localhost:8080/"
        },
        "id": "FSd3S3bWJiWm",
        "outputId": "355f56b9-4a7c-4a43-ccde-2bba75374163"
      },
      "execution_count": null,
      "outputs": [
        {
          "output_type": "stream",
          "name": "stdout",
          "text": [
            "825     Queenstown\n",
            "826    Southampton\n",
            "827      Cherbourg\n",
            "828     Queenstown\n",
            "829            NaN\n",
            "830      Cherbourg\n",
            "831    Southampton\n",
            "832      Cherbourg\n",
            "833    Southampton\n",
            "834    Southampton\n",
            "Name: embark_town, dtype: object\n",
            "\n",
            "825     Queenstown\n",
            "826    Southampton\n",
            "827      Cherbourg\n",
            "828     Queenstown\n",
            "829      Cherbourg\n",
            "830      Cherbourg\n",
            "831    Southampton\n",
            "832      Cherbourg\n",
            "833    Southampton\n",
            "834    Southampton\n",
            "Name: embark_town, dtype: object\n"
          ]
        }
      ]
    },
    {
      "cell_type": "code",
      "source": [
        "# 중복 데이터 처리\n",
        "df = pd.DataFrame({'c1' : ['a', 'b', 'a', 'a', 'b'],\n",
        "                   'c2': [1, 1, 1, 2, 2],\n",
        "                   'c3': [1, 1, 1, 2, 2]})\n",
        "print(df)"
      ],
      "metadata": {
        "colab": {
          "base_uri": "https://localhost:8080/"
        },
        "id": "2eZf8jY_JpUF",
        "outputId": "af71b733-095f-446d-ac5d-64469aad7576"
      },
      "execution_count": null,
      "outputs": [
        {
          "output_type": "stream",
          "name": "stdout",
          "text": [
            "  c1  c2  c3\n",
            "0  a   1   1\n",
            "1  b   1   1\n",
            "2  a   1   1\n",
            "3  a   2   2\n",
            "4  b   2   2\n"
          ]
        }
      ]
    },
    {
      "cell_type": "code",
      "source": [
        "df_dup = df.duplicated()\n",
        "print(df_dup)"
      ],
      "metadata": {
        "colab": {
          "base_uri": "https://localhost:8080/"
        },
        "id": "uzsY7CUsKrJi",
        "outputId": "a663586a-8d83-4125-de0f-cb8dcdcfcb6f"
      },
      "execution_count": null,
      "outputs": [
        {
          "output_type": "stream",
          "name": "stdout",
          "text": [
            "0    False\n",
            "1    False\n",
            "2     True\n",
            "3    False\n",
            "4    False\n",
            "dtype: bool\n"
          ]
        }
      ]
    },
    {
      "cell_type": "code",
      "source": [
        "col_dup = df['c2'].duplicated()\n",
        "print(col_dup)"
      ],
      "metadata": {
        "colab": {
          "base_uri": "https://localhost:8080/"
        },
        "id": "tX55DwGJK8mI",
        "outputId": "2c9b02c7-26fc-44c3-c177-3aef281314a4"
      },
      "execution_count": null,
      "outputs": [
        {
          "output_type": "stream",
          "name": "stdout",
          "text": [
            "0    False\n",
            "1     True\n",
            "2     True\n",
            "3    False\n",
            "4     True\n",
            "Name: c2, dtype: bool\n"
          ]
        }
      ]
    },
    {
      "cell_type": "code",
      "source": [
        "df = pd.DataFrame({'c1' : ['a', 'b', 'a', 'a', 'b'],\n",
        "                   'c2': [1, 1, 1, 2, 2],\n",
        "                   'c3': [1, 1, 1, 2, 2]})\n",
        "print(df)\n",
        "print()\n",
        "df2 = df.drop_duplicates()\n",
        "print(df2)"
      ],
      "metadata": {
        "colab": {
          "base_uri": "https://localhost:8080/"
        },
        "id": "cG_iMa4KLfRW",
        "outputId": "9b4ff875-63ab-4b5f-9ccc-756fcef8b4a2"
      },
      "execution_count": null,
      "outputs": [
        {
          "output_type": "stream",
          "name": "stdout",
          "text": [
            "  c1  c2  c3\n",
            "0  a   1   1\n",
            "1  b   1   1\n",
            "2  a   1   1\n",
            "3  a   2   2\n",
            "4  b   2   2\n",
            "\n",
            "  c1  c2  c3\n",
            "0  a   1   1\n",
            "1  b   1   1\n",
            "3  a   2   2\n",
            "4  b   2   2\n"
          ]
        }
      ]
    },
    {
      "cell_type": "code",
      "source": [
        "df3 = df.drop_duplicates(subset=['c2', 'c3'])\n",
        "print(df3)"
      ],
      "metadata": {
        "colab": {
          "base_uri": "https://localhost:8080/"
        },
        "id": "k64H_sG3L-fp",
        "outputId": "18652b02-fe8c-4b19-b415-acc646a051d4"
      },
      "execution_count": null,
      "outputs": [
        {
          "output_type": "stream",
          "name": "stdout",
          "text": [
            "  c1  c2  c3\n",
            "0  a   1   1\n",
            "3  a   2   2\n"
          ]
        }
      ]
    },
    {
      "cell_type": "code",
      "source": [
        "import pandas as pd\n",
        "\n",
        "df = pd.read_excel('/content/auto-mpg.xlsx')\n",
        "df.columns = ['mpg', 'cylinders', 'displacement', 'horsepower',\n",
        "              'weight', 'acceleration', 'model_year', 'origin', 'name']\n",
        "print(df.head())\n"
      ],
      "metadata": {
        "colab": {
          "base_uri": "https://localhost:8080/"
        },
        "id": "q82Um2EVMhyv",
        "outputId": "24fd64ec-dbe2-41de-c155-c4b8aebaa391"
      },
      "execution_count": null,
      "outputs": [
        {
          "output_type": "stream",
          "name": "stdout",
          "text": [
            "    mpg  cylinders  displacement horsepower  weight  acceleration  model_year  \\\n",
            "0  15.0          8         350.0        165    3693          11.5          70   \n",
            "1  18.0          8         318.0        150    3436          11.0          70   \n",
            "2  16.0          8         304.0        150    3433          12.0          70   \n",
            "3  17.0          8         302.0        140    3449          10.5          70   \n",
            "4  15.0          8         429.0        198    4341          10.0          70   \n",
            "\n",
            "   origin                name  \n",
            "0       1   buick skylark 320  \n",
            "1       1  plymouth satellite  \n",
            "2       1       amc rebel sst  \n",
            "3       1         ford torino  \n",
            "4       1    ford galaxie 500  \n"
          ]
        }
      ]
    },
    {
      "cell_type": "code",
      "source": [
        "mpg_to_kpl = 1.60934 / 3.78541\n",
        "df['kpl'] = mpg_to_kpl * df['mpg']\n",
        "print(df.head())"
      ],
      "metadata": {
        "colab": {
          "base_uri": "https://localhost:8080/"
        },
        "id": "ujcAWdIKPjJT",
        "outputId": "62e1db02-c7ff-45b7-f0ca-5c35ac30f5a1"
      },
      "execution_count": null,
      "outputs": [
        {
          "output_type": "stream",
          "name": "stdout",
          "text": [
            "    mpg  cylinders  displacement horsepower  weight  acceleration  model_year  \\\n",
            "0  15.0          8         350.0        165    3693          11.5          70   \n",
            "1  18.0          8         318.0        150    3436          11.0          70   \n",
            "2  16.0          8         304.0        150    3433          12.0          70   \n",
            "3  17.0          8         302.0        140    3449          10.5          70   \n",
            "4  15.0          8         429.0        198    4341          10.0          70   \n",
            "\n",
            "   origin                name       kpl  \n",
            "0       1   buick skylark 320  6.377143  \n",
            "1       1  plymouth satellite  7.652571  \n",
            "2       1       amc rebel sst  6.802286  \n",
            "3       1         ford torino  7.227428  \n",
            "4       1    ford galaxie 500  6.377143  \n"
          ]
        }
      ]
    },
    {
      "cell_type": "code",
      "source": [
        "df['kpl'] = df['kpl'].round(2)\n",
        "print(df.head())"
      ],
      "metadata": {
        "colab": {
          "base_uri": "https://localhost:8080/"
        },
        "id": "gQvayt7RP2wj",
        "outputId": "516b4c15-2504-4c9f-fd75-84c4f6332c0b"
      },
      "execution_count": null,
      "outputs": [
        {
          "output_type": "stream",
          "name": "stdout",
          "text": [
            "    mpg  cylinders  displacement horsepower  weight  acceleration  model_year  \\\n",
            "0  15.0          8         350.0        165    3693          11.5          70   \n",
            "1  18.0          8         318.0        150    3436          11.0          70   \n",
            "2  16.0          8         304.0        150    3433          12.0          70   \n",
            "3  17.0          8         302.0        140    3449          10.5          70   \n",
            "4  15.0          8         429.0        198    4341          10.0          70   \n",
            "\n",
            "   origin                name   kpl  \n",
            "0       1   buick skylark 320  6.38  \n",
            "1       1  plymouth satellite  7.65  \n",
            "2       1       amc rebel sst  6.80  \n",
            "3       1         ford torino  7.23  \n",
            "4       1    ford galaxie 500  6.38  \n"
          ]
        }
      ]
    },
    {
      "cell_type": "code",
      "source": [
        "import pandas as pd\n",
        "\n",
        "df = pd.read_excel('/content/auto-mpg.xlsx')\n",
        "df.columns = ['mpg', 'cylinders', 'displacement', 'horsepower',\n",
        "              'weight', 'acceleration', 'model_year', 'origin', 'name']"
      ],
      "metadata": {
        "id": "auUr68l3QZkF"
      },
      "execution_count": null,
      "outputs": []
    },
    {
      "cell_type": "code",
      "source": [
        "df.dtypes"
      ],
      "metadata": {
        "colab": {
          "base_uri": "https://localhost:8080/"
        },
        "id": "QAAlbljVQ0RY",
        "outputId": "e8273315-b01d-4b24-fac8-d7c4b8d1d8ce"
      },
      "execution_count": null,
      "outputs": [
        {
          "output_type": "execute_result",
          "data": {
            "text/plain": [
              "mpg             float64\n",
              "cylinders         int64\n",
              "displacement    float64\n",
              "horsepower       object\n",
              "weight            int64\n",
              "acceleration    float64\n",
              "model_year        int64\n",
              "origin            int64\n",
              "name             object\n",
              "dtype: object"
            ]
          },
          "metadata": {},
          "execution_count": 70
        }
      ]
    },
    {
      "cell_type": "code",
      "source": [
        "df.info()"
      ],
      "metadata": {
        "colab": {
          "base_uri": "https://localhost:8080/"
        },
        "id": "4mj5f3enQ769",
        "outputId": "c68b6867-d1dd-4243-bce5-7993cf69aaac"
      },
      "execution_count": null,
      "outputs": [
        {
          "output_type": "stream",
          "name": "stdout",
          "text": [
            "<class 'pandas.core.frame.DataFrame'>\n",
            "RangeIndex: 397 entries, 0 to 396\n",
            "Data columns (total 9 columns):\n",
            " #   Column        Non-Null Count  Dtype  \n",
            "---  ------        --------------  -----  \n",
            " 0   mpg           397 non-null    float64\n",
            " 1   cylinders     397 non-null    int64  \n",
            " 2   displacement  397 non-null    float64\n",
            " 3   horsepower    397 non-null    object \n",
            " 4   weight        397 non-null    int64  \n",
            " 5   acceleration  397 non-null    float64\n",
            " 6   model_year    397 non-null    int64  \n",
            " 7   origin        397 non-null    int64  \n",
            " 8   name          397 non-null    object \n",
            "dtypes: float64(3), int64(4), object(2)\n",
            "memory usage: 28.0+ KB\n"
          ]
        }
      ]
    },
    {
      "cell_type": "code",
      "source": [
        "df.horsepower.unique()"
      ],
      "metadata": {
        "colab": {
          "base_uri": "https://localhost:8080/"
        },
        "id": "kZySTEUNQ_IZ",
        "outputId": "6a13242e-3512-4c49-a120-c52197a0c869"
      },
      "execution_count": null,
      "outputs": [
        {
          "output_type": "execute_result",
          "data": {
            "text/plain": [
              "array([165, 150, 140, 198, 220, 215, 225, 190, 170, 160, 95, 97, 85, 88,\n",
              "       46, 87, 90, 113, 200, 210, 193, '?', 100, 105, 175, 153, 180, 110,\n",
              "       72, 86, 70, 76, 65, 69, 60, 80, 54, 208, 155, 130, 112, 92, 145,\n",
              "       137, 158, 167, 94, 107, 230, 49, 75, 91, 122, 67, 83, 78, 52, 61,\n",
              "       93, 148, 129, 96, 71, 98, 115, 53, 81, 79, 120, 152, 102, 108, 68,\n",
              "       58, 149, 89, 63, 48, 66, 139, 103, 125, 133, 138, 135, 142, 77, 62,\n",
              "       132, 84, 64, 74, 116, 82], dtype=object)"
            ]
          },
          "metadata": {},
          "execution_count": 73
        }
      ]
    },
    {
      "cell_type": "code",
      "source": [
        "import pandas as pd\n",
        "import numpy as np\n",
        "\n",
        "df = pd.read_excel('/content/auto-mpg.xlsx')\n",
        "df.columns = ['mpg', 'cylinders', 'displacement', 'horsepower',\n",
        "              'weight', 'acceleration', 'model_year', 'origin', 'name']\n",
        "\n",
        "print(type(np.nan))"
      ],
      "metadata": {
        "colab": {
          "base_uri": "https://localhost:8080/"
        },
        "id": "lxJ4p0v7R-Pn",
        "outputId": "72fa5db0-08f2-4fe7-9909-ce87c7992abe"
      },
      "execution_count": null,
      "outputs": [
        {
          "output_type": "stream",
          "name": "stdout",
          "text": [
            "<class 'float'>\n"
          ]
        }
      ]
    },
    {
      "cell_type": "code",
      "source": [
        "df.horsepower.replace('?', np.nan, inplace=True)\n",
        "df.horsepower.isnull().sum()"
      ],
      "metadata": {
        "colab": {
          "base_uri": "https://localhost:8080/"
        },
        "id": "hyDMOXOYWlTh",
        "outputId": "fecd9ac1-8e0a-418e-eb05-f20e7239123c"
      },
      "execution_count": null,
      "outputs": [
        {
          "output_type": "execute_result",
          "data": {
            "text/plain": [
              "6"
            ]
          },
          "metadata": {},
          "execution_count": 77
        }
      ]
    },
    {
      "cell_type": "code",
      "source": [
        "df.dropna(subset=['horsepower'], inplace=True)\n",
        "df['horsepower'].isnull().sum()"
      ],
      "metadata": {
        "colab": {
          "base_uri": "https://localhost:8080/"
        },
        "id": "eh1NKloaXJgq",
        "outputId": "1530e183-7935-47fe-f637-5b314cc0691b"
      },
      "execution_count": null,
      "outputs": [
        {
          "output_type": "execute_result",
          "data": {
            "text/plain": [
              "0"
            ]
          },
          "metadata": {},
          "execution_count": 78
        }
      ]
    },
    {
      "cell_type": "code",
      "source": [
        "df.info()"
      ],
      "metadata": {
        "colab": {
          "base_uri": "https://localhost:8080/"
        },
        "id": "wymfKv8IXsPz",
        "outputId": "53558a33-c85b-4d4c-b086-e5040fd29573"
      },
      "execution_count": null,
      "outputs": [
        {
          "output_type": "stream",
          "name": "stdout",
          "text": [
            "<class 'pandas.core.frame.DataFrame'>\n",
            "Int64Index: 391 entries, 0 to 396\n",
            "Data columns (total 9 columns):\n",
            " #   Column        Non-Null Count  Dtype  \n",
            "---  ------        --------------  -----  \n",
            " 0   mpg           391 non-null    float64\n",
            " 1   cylinders     391 non-null    int64  \n",
            " 2   displacement  391 non-null    float64\n",
            " 3   horsepower    391 non-null    float64\n",
            " 4   weight        391 non-null    int64  \n",
            " 5   acceleration  391 non-null    float64\n",
            " 6   model_year    391 non-null    int64  \n",
            " 7   origin        391 non-null    int64  \n",
            " 8   name          391 non-null    object \n",
            "dtypes: float64(4), int64(4), object(1)\n",
            "memory usage: 30.5+ KB\n"
          ]
        }
      ]
    },
    {
      "cell_type": "code",
      "source": [
        "df.origin.replace({1: 'USA', 2: 'EU', 3: 'JAPAN'}, inplace=True)\n",
        "df.info()"
      ],
      "metadata": {
        "colab": {
          "base_uri": "https://localhost:8080/"
        },
        "id": "T99U3udeXyVh",
        "outputId": "ff0ee05b-76f1-49a7-b013-234b170d042a"
      },
      "execution_count": null,
      "outputs": [
        {
          "output_type": "stream",
          "name": "stdout",
          "text": [
            "<class 'pandas.core.frame.DataFrame'>\n",
            "Int64Index: 391 entries, 0 to 396\n",
            "Data columns (total 9 columns):\n",
            " #   Column        Non-Null Count  Dtype  \n",
            "---  ------        --------------  -----  \n",
            " 0   mpg           391 non-null    float64\n",
            " 1   cylinders     391 non-null    int64  \n",
            " 2   displacement  391 non-null    float64\n",
            " 3   horsepower    391 non-null    float64\n",
            " 4   weight        391 non-null    int64  \n",
            " 5   acceleration  391 non-null    float64\n",
            " 6   model_year    391 non-null    int64  \n",
            " 7   origin        391 non-null    object \n",
            " 8   name          391 non-null    object \n",
            "dtypes: float64(4), int64(3), object(2)\n",
            "memory usage: 30.5+ KB\n"
          ]
        }
      ]
    },
    {
      "cell_type": "code",
      "source": [
        "df.head()"
      ],
      "metadata": {
        "colab": {
          "base_uri": "https://localhost:8080/",
          "height": 206
        },
        "id": "oaeM7G4qZTuN",
        "outputId": "0772a235-2a89-4ca7-8ec3-2dee7dd2be71"
      },
      "execution_count": null,
      "outputs": [
        {
          "output_type": "execute_result",
          "data": {
            "text/plain": [
              "    mpg  cylinders  displacement  horsepower  weight  acceleration  \\\n",
              "0  15.0          8         350.0       165.0    3693          11.5   \n",
              "1  18.0          8         318.0       150.0    3436          11.0   \n",
              "2  16.0          8         304.0       150.0    3433          12.0   \n",
              "3  17.0          8         302.0       140.0    3449          10.5   \n",
              "4  15.0          8         429.0       198.0    4341          10.0   \n",
              "\n",
              "   model_year origin                name  \n",
              "0          70    USA   buick skylark 320  \n",
              "1          70    USA  plymouth satellite  \n",
              "2          70    USA       amc rebel sst  \n",
              "3          70    USA         ford torino  \n",
              "4          70    USA    ford galaxie 500  "
            ],
            "text/html": [
              "\n",
              "\n",
              "  <div id=\"df-43cf2fe3-b0c3-4e15-9038-c586d050bcd1\">\n",
              "    <div class=\"colab-df-container\">\n",
              "      <div>\n",
              "<style scoped>\n",
              "    .dataframe tbody tr th:only-of-type {\n",
              "        vertical-align: middle;\n",
              "    }\n",
              "\n",
              "    .dataframe tbody tr th {\n",
              "        vertical-align: top;\n",
              "    }\n",
              "\n",
              "    .dataframe thead th {\n",
              "        text-align: right;\n",
              "    }\n",
              "</style>\n",
              "<table border=\"1\" class=\"dataframe\">\n",
              "  <thead>\n",
              "    <tr style=\"text-align: right;\">\n",
              "      <th></th>\n",
              "      <th>mpg</th>\n",
              "      <th>cylinders</th>\n",
              "      <th>displacement</th>\n",
              "      <th>horsepower</th>\n",
              "      <th>weight</th>\n",
              "      <th>acceleration</th>\n",
              "      <th>model_year</th>\n",
              "      <th>origin</th>\n",
              "      <th>name</th>\n",
              "    </tr>\n",
              "  </thead>\n",
              "  <tbody>\n",
              "    <tr>\n",
              "      <th>0</th>\n",
              "      <td>15.0</td>\n",
              "      <td>8</td>\n",
              "      <td>350.0</td>\n",
              "      <td>165.0</td>\n",
              "      <td>3693</td>\n",
              "      <td>11.5</td>\n",
              "      <td>70</td>\n",
              "      <td>USA</td>\n",
              "      <td>buick skylark 320</td>\n",
              "    </tr>\n",
              "    <tr>\n",
              "      <th>1</th>\n",
              "      <td>18.0</td>\n",
              "      <td>8</td>\n",
              "      <td>318.0</td>\n",
              "      <td>150.0</td>\n",
              "      <td>3436</td>\n",
              "      <td>11.0</td>\n",
              "      <td>70</td>\n",
              "      <td>USA</td>\n",
              "      <td>plymouth satellite</td>\n",
              "    </tr>\n",
              "    <tr>\n",
              "      <th>2</th>\n",
              "      <td>16.0</td>\n",
              "      <td>8</td>\n",
              "      <td>304.0</td>\n",
              "      <td>150.0</td>\n",
              "      <td>3433</td>\n",
              "      <td>12.0</td>\n",
              "      <td>70</td>\n",
              "      <td>USA</td>\n",
              "      <td>amc rebel sst</td>\n",
              "    </tr>\n",
              "    <tr>\n",
              "      <th>3</th>\n",
              "      <td>17.0</td>\n",
              "      <td>8</td>\n",
              "      <td>302.0</td>\n",
              "      <td>140.0</td>\n",
              "      <td>3449</td>\n",
              "      <td>10.5</td>\n",
              "      <td>70</td>\n",
              "      <td>USA</td>\n",
              "      <td>ford torino</td>\n",
              "    </tr>\n",
              "    <tr>\n",
              "      <th>4</th>\n",
              "      <td>15.0</td>\n",
              "      <td>8</td>\n",
              "      <td>429.0</td>\n",
              "      <td>198.0</td>\n",
              "      <td>4341</td>\n",
              "      <td>10.0</td>\n",
              "      <td>70</td>\n",
              "      <td>USA</td>\n",
              "      <td>ford galaxie 500</td>\n",
              "    </tr>\n",
              "  </tbody>\n",
              "</table>\n",
              "</div>\n",
              "      <button class=\"colab-df-convert\" onclick=\"convertToInteractive('df-43cf2fe3-b0c3-4e15-9038-c586d050bcd1')\"\n",
              "              title=\"Convert this dataframe to an interactive table.\"\n",
              "              style=\"display:none;\">\n",
              "\n",
              "  <svg xmlns=\"http://www.w3.org/2000/svg\" height=\"24px\"viewBox=\"0 0 24 24\"\n",
              "       width=\"24px\">\n",
              "    <path d=\"M0 0h24v24H0V0z\" fill=\"none\"/>\n",
              "    <path d=\"M18.56 5.44l.94 2.06.94-2.06 2.06-.94-2.06-.94-.94-2.06-.94 2.06-2.06.94zm-11 1L8.5 8.5l.94-2.06 2.06-.94-2.06-.94L8.5 2.5l-.94 2.06-2.06.94zm10 10l.94 2.06.94-2.06 2.06-.94-2.06-.94-.94-2.06-.94 2.06-2.06.94z\"/><path d=\"M17.41 7.96l-1.37-1.37c-.4-.4-.92-.59-1.43-.59-.52 0-1.04.2-1.43.59L10.3 9.45l-7.72 7.72c-.78.78-.78 2.05 0 2.83L4 21.41c.39.39.9.59 1.41.59.51 0 1.02-.2 1.41-.59l7.78-7.78 2.81-2.81c.8-.78.8-2.07 0-2.86zM5.41 20L4 18.59l7.72-7.72 1.47 1.35L5.41 20z\"/>\n",
              "  </svg>\n",
              "      </button>\n",
              "\n",
              "\n",
              "\n",
              "    <div id=\"df-0b883eeb-7e35-42b4-a76c-5fd41c624fe4\">\n",
              "      <button class=\"colab-df-quickchart\" onclick=\"quickchart('df-0b883eeb-7e35-42b4-a76c-5fd41c624fe4')\"\n",
              "              title=\"Suggest charts.\"\n",
              "              style=\"display:none;\">\n",
              "\n",
              "<svg xmlns=\"http://www.w3.org/2000/svg\" height=\"24px\"viewBox=\"0 0 24 24\"\n",
              "     width=\"24px\">\n",
              "    <g>\n",
              "        <path d=\"M19 3H5c-1.1 0-2 .9-2 2v14c0 1.1.9 2 2 2h14c1.1 0 2-.9 2-2V5c0-1.1-.9-2-2-2zM9 17H7v-7h2v7zm4 0h-2V7h2v10zm4 0h-2v-4h2v4z\"/>\n",
              "    </g>\n",
              "</svg>\n",
              "      </button>\n",
              "    </div>\n",
              "\n",
              "<style>\n",
              "  .colab-df-quickchart {\n",
              "    background-color: #E8F0FE;\n",
              "    border: none;\n",
              "    border-radius: 50%;\n",
              "    cursor: pointer;\n",
              "    display: none;\n",
              "    fill: #1967D2;\n",
              "    height: 32px;\n",
              "    padding: 0 0 0 0;\n",
              "    width: 32px;\n",
              "  }\n",
              "\n",
              "  .colab-df-quickchart:hover {\n",
              "    background-color: #E2EBFA;\n",
              "    box-shadow: 0px 1px 2px rgba(60, 64, 67, 0.3), 0px 1px 3px 1px rgba(60, 64, 67, 0.15);\n",
              "    fill: #174EA6;\n",
              "  }\n",
              "\n",
              "  [theme=dark] .colab-df-quickchart {\n",
              "    background-color: #3B4455;\n",
              "    fill: #D2E3FC;\n",
              "  }\n",
              "\n",
              "  [theme=dark] .colab-df-quickchart:hover {\n",
              "    background-color: #434B5C;\n",
              "    box-shadow: 0px 1px 3px 1px rgba(0, 0, 0, 0.15);\n",
              "    filter: drop-shadow(0px 1px 2px rgba(0, 0, 0, 0.3));\n",
              "    fill: #FFFFFF;\n",
              "  }\n",
              "</style>\n",
              "\n",
              "    <script>\n",
              "      async function quickchart(key) {\n",
              "        const containerElement = document.querySelector('#' + key);\n",
              "        const charts = await google.colab.kernel.invokeFunction(\n",
              "            'suggestCharts', [key], {});\n",
              "      }\n",
              "    </script>\n",
              "\n",
              "      <script>\n",
              "\n",
              "function displayQuickchartButton(domScope) {\n",
              "  let quickchartButtonEl =\n",
              "    domScope.querySelector('#df-0b883eeb-7e35-42b4-a76c-5fd41c624fe4 button.colab-df-quickchart');\n",
              "  quickchartButtonEl.style.display =\n",
              "    google.colab.kernel.accessAllowed ? 'block' : 'none';\n",
              "}\n",
              "\n",
              "        displayQuickchartButton(document);\n",
              "      </script>\n",
              "      <style>\n",
              "    .colab-df-container {\n",
              "      display:flex;\n",
              "      flex-wrap:wrap;\n",
              "      gap: 12px;\n",
              "    }\n",
              "\n",
              "    .colab-df-convert {\n",
              "      background-color: #E8F0FE;\n",
              "      border: none;\n",
              "      border-radius: 50%;\n",
              "      cursor: pointer;\n",
              "      display: none;\n",
              "      fill: #1967D2;\n",
              "      height: 32px;\n",
              "      padding: 0 0 0 0;\n",
              "      width: 32px;\n",
              "    }\n",
              "\n",
              "    .colab-df-convert:hover {\n",
              "      background-color: #E2EBFA;\n",
              "      box-shadow: 0px 1px 2px rgba(60, 64, 67, 0.3), 0px 1px 3px 1px rgba(60, 64, 67, 0.15);\n",
              "      fill: #174EA6;\n",
              "    }\n",
              "\n",
              "    [theme=dark] .colab-df-convert {\n",
              "      background-color: #3B4455;\n",
              "      fill: #D2E3FC;\n",
              "    }\n",
              "\n",
              "    [theme=dark] .colab-df-convert:hover {\n",
              "      background-color: #434B5C;\n",
              "      box-shadow: 0px 1px 3px 1px rgba(0, 0, 0, 0.15);\n",
              "      filter: drop-shadow(0px 1px 2px rgba(0, 0, 0, 0.3));\n",
              "      fill: #FFFFFF;\n",
              "    }\n",
              "  </style>\n",
              "\n",
              "      <script>\n",
              "        const buttonEl =\n",
              "          document.querySelector('#df-43cf2fe3-b0c3-4e15-9038-c586d050bcd1 button.colab-df-convert');\n",
              "        buttonEl.style.display =\n",
              "          google.colab.kernel.accessAllowed ? 'block' : 'none';\n",
              "\n",
              "        async function convertToInteractive(key) {\n",
              "          const element = document.querySelector('#df-43cf2fe3-b0c3-4e15-9038-c586d050bcd1');\n",
              "          const dataTable =\n",
              "            await google.colab.kernel.invokeFunction('convertToInteractive',\n",
              "                                                     [key], {});\n",
              "          if (!dataTable) return;\n",
              "\n",
              "          const docLinkHtml = 'Like what you see? Visit the ' +\n",
              "            '<a target=\"_blank\" href=https://colab.research.google.com/notebooks/data_table.ipynb>data table notebook</a>'\n",
              "            + ' to learn more about interactive tables.';\n",
              "          element.innerHTML = '';\n",
              "          dataTable['output_type'] = 'display_data';\n",
              "          await google.colab.output.renderOutput(dataTable, element);\n",
              "          const docLink = document.createElement('div');\n",
              "          docLink.innerHTML = docLinkHtml;\n",
              "          element.appendChild(docLink);\n",
              "        }\n",
              "      </script>\n",
              "    </div>\n",
              "  </div>\n"
            ]
          },
          "metadata": {},
          "execution_count": 81
        }
      ]
    },
    {
      "cell_type": "code",
      "source": [
        "df.origin = df.origin.astype('category')  # 범주형 데이터 타입\n",
        "print(df.origin.dtypes)"
      ],
      "metadata": {
        "colab": {
          "base_uri": "https://localhost:8080/"
        },
        "id": "c4FIHWUfZVdC",
        "outputId": "236d7aac-83a6-4161-b132-08a0030cccc6"
      },
      "execution_count": null,
      "outputs": [
        {
          "output_type": "stream",
          "name": "stdout",
          "text": [
            "category\n"
          ]
        }
      ]
    },
    {
      "cell_type": "code",
      "source": [
        "df.info()"
      ],
      "metadata": {
        "colab": {
          "base_uri": "https://localhost:8080/"
        },
        "id": "BUHSWENkbC9m",
        "outputId": "2e39cc62-007b-4d83-fab0-550fab2e6686"
      },
      "execution_count": null,
      "outputs": [
        {
          "output_type": "stream",
          "name": "stdout",
          "text": [
            "<class 'pandas.core.frame.DataFrame'>\n",
            "Int64Index: 391 entries, 0 to 396\n",
            "Data columns (total 9 columns):\n",
            " #   Column        Non-Null Count  Dtype   \n",
            "---  ------        --------------  -----   \n",
            " 0   mpg           391 non-null    float64 \n",
            " 1   cylinders     391 non-null    int64   \n",
            " 2   displacement  391 non-null    float64 \n",
            " 3   horsepower    391 non-null    float64 \n",
            " 4   weight        391 non-null    int64   \n",
            " 5   acceleration  391 non-null    float64 \n",
            " 6   model_year    391 non-null    int64   \n",
            " 7   origin        391 non-null    category\n",
            " 8   name          391 non-null    object  \n",
            "dtypes: category(1), float64(4), int64(3), object(1)\n",
            "memory usage: 28.0+ KB\n"
          ]
        }
      ]
    },
    {
      "cell_type": "code",
      "source": [
        "df.model_year = df.model_year.astype('category')\n",
        "df.info()"
      ],
      "metadata": {
        "colab": {
          "base_uri": "https://localhost:8080/"
        },
        "id": "xPdsylpGbQ6A",
        "outputId": "7bc9d13f-af39-4a55-b3dc-559d1fb77785"
      },
      "execution_count": null,
      "outputs": [
        {
          "output_type": "stream",
          "name": "stdout",
          "text": [
            "<class 'pandas.core.frame.DataFrame'>\n",
            "Int64Index: 391 entries, 0 to 396\n",
            "Data columns (total 9 columns):\n",
            " #   Column        Non-Null Count  Dtype   \n",
            "---  ------        --------------  -----   \n",
            " 0   mpg           391 non-null    float64 \n",
            " 1   cylinders     391 non-null    int64   \n",
            " 2   displacement  391 non-null    float64 \n",
            " 3   horsepower    391 non-null    float64 \n",
            " 4   weight        391 non-null    int64   \n",
            " 5   acceleration  391 non-null    float64 \n",
            " 6   model_year    391 non-null    category\n",
            " 7   origin        391 non-null    category\n",
            " 8   name          391 non-null    object  \n",
            "dtypes: category(2), float64(4), int64(2), object(1)\n",
            "memory usage: 26.0+ KB\n"
          ]
        }
      ]
    },
    {
      "cell_type": "code",
      "source": [
        "df.model_year.sample(5)"
      ],
      "metadata": {
        "colab": {
          "base_uri": "https://localhost:8080/"
        },
        "id": "Sb-UevaNb0CT",
        "outputId": "23a16ab4-d8f3-4043-9be0-a2781134c64e"
      },
      "execution_count": null,
      "outputs": [
        {
          "output_type": "execute_result",
          "data": {
            "text/plain": [
              "178    75\n",
              "354    81\n",
              "309    80\n",
              "192    76\n",
              "202    76\n",
              "Name: model_year, dtype: category\n",
              "Categories (13, int64): [70, 71, 72, 73, ..., 79, 80, 81, 82]"
            ]
          },
          "metadata": {},
          "execution_count": 87
        }
      ]
    },
    {
      "cell_type": "code",
      "source": [
        "df = pd.read_excel('/content/auto-mpg.xlsx')\n",
        "\n",
        "df.columns = ['mpg', 'cylinders', 'displacement', 'horsepower',\n",
        "              'weight', 'acceleration', 'model_year', 'origin', 'name']\n",
        "\n",
        "\n",
        "df['horsepower'].replace('?', np.nan, inplace = True)\n",
        "df.dropna(subset = ['horsepower'], inplace = True)\n",
        "df['horsepower'] = df['horsepower'].astype('float')\n",
        "\n",
        "count, bin_dividers = np.histogram(df.horsepower, bins=3)\n",
        "print(count) # 저출력 중간출력 고출력\n",
        "print()\n",
        "print(bin_dividers) # 경계값"
      ],
      "metadata": {
        "colab": {
          "base_uri": "https://localhost:8080/"
        },
        "id": "OCOzImnxcZ7A",
        "outputId": "574f1466-b4a4-4972-8461-40abf711aeac"
      },
      "execution_count": null,
      "outputs": [
        {
          "output_type": "stream",
          "name": "stdout",
          "text": [
            "[257 102  32]\n",
            "\n",
            "[ 46.         107.33333333 168.66666667 230.        ]\n"
          ]
        }
      ]
    },
    {
      "cell_type": "code",
      "source": [
        "bin_names = ['저출력', '중간출력', '고출력']\n",
        "df['hp_bin'] = pd.cut(x=df.horsepower,\n",
        "                   bins=bin_dividers,\n",
        "                   labels=bin_names,\n",
        "                   include_lowest=True)\n",
        "\n",
        "print(df.head(10))"
      ],
      "metadata": {
        "colab": {
          "base_uri": "https://localhost:8080/"
        },
        "id": "Bh6LXv85eb2o",
        "outputId": "6cd195d2-9a95-4941-afa0-e22dd247b292"
      },
      "execution_count": null,
      "outputs": [
        {
          "output_type": "stream",
          "name": "stdout",
          "text": [
            "    mpg  cylinders  displacement  horsepower  weight  acceleration  \\\n",
            "0  15.0          8         350.0       165.0    3693          11.5   \n",
            "1  18.0          8         318.0       150.0    3436          11.0   \n",
            "2  16.0          8         304.0       150.0    3433          12.0   \n",
            "3  17.0          8         302.0       140.0    3449          10.5   \n",
            "4  15.0          8         429.0       198.0    4341          10.0   \n",
            "5  14.0          8         454.0       220.0    4354           9.0   \n",
            "6  14.0          8         440.0       215.0    4312           8.5   \n",
            "7  14.0          8         455.0       225.0    4425          10.0   \n",
            "8  15.0          8         390.0       190.0    3850           8.5   \n",
            "9  15.0          8         383.0       170.0    3563          10.0   \n",
            "\n",
            "   model_year  origin                 name hp_bin  \n",
            "0          70       1    buick skylark 320   중간출력  \n",
            "1          70       1   plymouth satellite   중간출력  \n",
            "2          70       1        amc rebel sst   중간출력  \n",
            "3          70       1          ford torino   중간출력  \n",
            "4          70       1     ford galaxie 500    고출력  \n",
            "5          70       1     chevrolet impala    고출력  \n",
            "6          70       1    plymouth fury iii    고출력  \n",
            "7          70       1     pontiac catalina    고출력  \n",
            "8          70       1   amc ambassador dpl    고출력  \n",
            "9          70       1  dodge challenger se    고출력  \n"
          ]
        }
      ]
    },
    {
      "cell_type": "code",
      "source": [
        "horsepower_dummies = pd.get_dummies(df['hp_bin'])\n",
        "print(horsepower_dummies)"
      ],
      "metadata": {
        "colab": {
          "base_uri": "https://localhost:8080/"
        },
        "id": "KR9TANc0kqV0",
        "outputId": "ab0bcb44-4f65-4fa1-a74e-f376c3206859"
      },
      "execution_count": null,
      "outputs": [
        {
          "output_type": "stream",
          "name": "stdout",
          "text": [
            "     저출력  중간출력  고출력\n",
            "0      0     1    0\n",
            "1      0     1    0\n",
            "2      0     1    0\n",
            "3      0     1    0\n",
            "4      0     0    1\n",
            "..   ...   ...  ...\n",
            "392    1     0    0\n",
            "393    1     0    0\n",
            "394    1     0    0\n",
            "395    1     0    0\n",
            "396    1     0    0\n",
            "\n",
            "[391 rows x 3 columns]\n"
          ]
        }
      ]
    },
    {
      "cell_type": "code",
      "source": [
        "from sklearn import preprocessing\n",
        "\n",
        "label_encoder = preprocessing.LabelEncoder()\n",
        "onehot_encoder = preprocessing.OneHotEncoder()\n",
        "\n",
        "onehot_labeled = label_encoder.fit_transform(df['hp_bin'].head(15))\n",
        "print(onehot_labeled)"
      ],
      "metadata": {
        "colab": {
          "base_uri": "https://localhost:8080/"
        },
        "id": "R4h4C9GJl3Y0",
        "outputId": "e3406931-a1a2-497b-ca6a-e1703d3cbea3"
      },
      "execution_count": null,
      "outputs": [
        {
          "output_type": "stream",
          "name": "stdout",
          "text": [
            "[2 2 2 2 0 0 0 0 0 0 2 2 0 1 1]\n"
          ]
        }
      ]
    },
    {
      "cell_type": "code",
      "source": [
        "onehot_reshaped = onehot_labeled.reshape(len(onehot_labeled), 1)\n",
        "print(onehot_reshaped)"
      ],
      "metadata": {
        "colab": {
          "base_uri": "https://localhost:8080/"
        },
        "id": "8A7uQzxGoU35",
        "outputId": "a12b5f36-0f67-4c3d-f44c-1d8f65b34d3e"
      },
      "execution_count": null,
      "outputs": [
        {
          "output_type": "stream",
          "name": "stdout",
          "text": [
            "[[2]\n",
            " [2]\n",
            " [2]\n",
            " [2]\n",
            " [0]\n",
            " [0]\n",
            " [0]\n",
            " [0]\n",
            " [0]\n",
            " [0]\n",
            " [2]\n",
            " [2]\n",
            " [0]\n",
            " [1]\n",
            " [1]]\n"
          ]
        }
      ]
    },
    {
      "cell_type": "code",
      "source": [
        "onehot_fitted = onehot_encoder.fit_transform(onehot_reshaped)\n",
        "print(onehot_fitted)"
      ],
      "metadata": {
        "colab": {
          "base_uri": "https://localhost:8080/"
        },
        "id": "R-3XxtVvpcDX",
        "outputId": "93e8c093-8b53-4eac-b34c-7e9109cae434"
      },
      "execution_count": null,
      "outputs": [
        {
          "output_type": "stream",
          "name": "stdout",
          "text": [
            "  (0, 2)\t1.0\n",
            "  (1, 2)\t1.0\n",
            "  (2, 2)\t1.0\n",
            "  (3, 2)\t1.0\n",
            "  (4, 0)\t1.0\n",
            "  (5, 0)\t1.0\n",
            "  (6, 0)\t1.0\n",
            "  (7, 0)\t1.0\n",
            "  (8, 0)\t1.0\n",
            "  (9, 0)\t1.0\n",
            "  (10, 2)\t1.0\n",
            "  (11, 2)\t1.0\n",
            "  (12, 0)\t1.0\n",
            "  (13, 1)\t1.0\n",
            "  (14, 1)\t1.0\n"
          ]
        }
      ]
    },
    {
      "cell_type": "code",
      "source": [],
      "metadata": {
        "id": "wbJKxLnBp5iV"
      },
      "execution_count": null,
      "outputs": []
    }
  ]
}